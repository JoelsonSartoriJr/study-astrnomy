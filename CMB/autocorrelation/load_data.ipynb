{
 "cells": [
  {
   "cell_type": "code",
   "execution_count": 1,
   "source": [
    "import numpy as np\n",
    "import math\n",
    "from triple_integral import triple_integral\n",
    "import healpy as hp\n",
    "import matplotlib.pyplot as plt"
   ],
   "outputs": [],
   "metadata": {}
  },
  {
   "cell_type": "code",
   "execution_count": 2,
   "source": [
    "#read data\n",
    "m = hp.read_map('../COM_CMB_IQU-smica_2048_R3.00_full.fits', ('I_STOKES_INP', ))\n",
    "nside = 2048\n",
    "resolution = hp.nside2resol(nside, arcmin=True)/60.0\n",
    "print(f'NSIDE = {nside}')\n",
    "print(f'Resolution = {resolution:.2}')\n",
    "print(f'Number pixel = {hp.nside2npix(nside)}')"
   ],
   "outputs": [
    {
     "output_type": "stream",
     "name": "stdout",
     "text": [
      "NSIDE = 2048\n",
      "Resolution = 0.029\n",
      "Number pixel = 50331648\n"
     ]
    }
   ],
   "metadata": {}
  },
  {
   "cell_type": "code",
   "execution_count": 3,
   "source": [
    "#Calc correlation\n",
    "p = np.pi\n",
    "c = 1e12/(8.0*p*p) # Normalaze and converted in uK^2 units"
   ],
   "outputs": [],
   "metadata": {}
  },
  {
   "cell_type": "code",
   "execution_count": 4,
   "source": [
    "def prod(b, f, t, a):\n",
    "    \n",
    "    t2 = 0.0\n",
    "    f2 = 0.0\n",
    "    \n",
    "    if math.fabs(t)<1e-10:\n",
    "        t2 = a\n",
    "        den = math.tan(b-f)\n",
    "        if math.fabs(den)<1e-10: f2 = math.pi/2.0\n",
    "        else : f2 = math.atan(1.0/den)\n",
    "    else:\n",
    "        st = math.sin(t)\n",
    "        sf = math.sin(f)\n",
    "        sa = math.sin(a)\n",
    "        sb = math.sin(b)\n",
    "        ct = math.cos(t)\n",
    "        cf = math.cos(f)\n",
    "        ca = math.cos(a)\n",
    "        cb = math.cos(b)\n",
    "        ta = math.tan(a)\n",
    "        \n",
    "        t2 = math.cos(-st*sa*sb + ct*ca)\n",
    "        den = st*cf + ta*(ct*cf*sb - sf*cb)\n",
    "        f2 = math.tan((st*sf + ta*(ct*sf*sb + cf*cb))/float(den))\n",
    "    \n",
    "    dT1 = m[hp.ang2pix(nside, t, f)]\n",
    "    dT2 = m[hp.ang2pix(nside, t2, f2)]\n",
    "    \n",
    "    return dT1*dT2*math.sin(t)"
   ],
   "outputs": [],
   "metadata": {}
  },
  {
   "cell_type": "code",
   "execution_count": 5,
   "source": [
    "n = 200\n",
    "vecA = np.linspace(1e-3, p-1e-3, n)\n",
    "correlation = np.zeros(n)\n",
    "\n",
    "for i in range(n):\n",
    "    correlation[i] = c*triple_integral(prod, [0, 2*p, 0, 2*p, 0, p], 7, args=(vecA[i]))\n",
    "    print(f'{vecA[i]:.6e} {correlation[i]}')"
   ],
   "outputs": [
    {
     "output_type": "stream",
     "name": "stdout",
     "text": [
      "1.000000e-03 43.282235891581756\n",
      "1.677685e-02 42.93809903409909\n"
     ]
    }
   ],
   "metadata": {}
  },
  {
   "cell_type": "code",
   "execution_count": null,
   "source": [
    "plt.plot(vecA, correlation, 'o-')\n",
    "plt.margins(0, 1)\n",
    "plt.xlabel('Angulo')\n",
    "plt.ylabel('Correlation')\n",
    "plt.grid()\n",
    "plt.subplots_adjust(lef=0.1, bottom=0.1, right=0.96, top=0.97)\n",
    "plt.show()"
   ],
   "outputs": [],
   "metadata": {}
  }
 ],
 "metadata": {
  "orig_nbformat": 4,
  "language_info": {
   "name": "python",
   "version": "3.7.11",
   "mimetype": "text/x-python",
   "codemirror_mode": {
    "name": "ipython",
    "version": 3
   },
   "pygments_lexer": "ipython3",
   "nbconvert_exporter": "python",
   "file_extension": ".py"
  },
  "kernelspec": {
   "name": "python3",
   "display_name": "Python 3.7.11 64-bit ('fisica': conda)"
  },
  "interpreter": {
   "hash": "cc239380ed0f405b57a00edfaee29efd057979a7f62a766b8b8106d2dc23de97"
  }
 },
 "nbformat": 4,
 "nbformat_minor": 2
}