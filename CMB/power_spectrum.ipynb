{
 "cells": [
  {
   "cell_type": "code",
   "execution_count": 2,
   "source": [
    "import numpy as np\n",
    "from scipy.special import eval_legendre\n",
    "from scipy.integrate import simps\n",
    "import matplotlib.pyplot as plt"
   ],
   "outputs": [],
   "metadata": {}
  },
  {
   "cell_type": "code",
   "execution_count": null,
   "source": [
    "D = np.loadtxt('correlacao.dat', dtype=float).transpose()\n",
    "T = D[0]\n",
    "C = D[1]\n",
    "X = np.cons(T)"
   ],
   "outputs": [],
   "metadata": {}
  },
  {
   "cell_type": "code",
   "execution_count": null,
   "source": [
    "power = []\n",
    "for n in range(501):\n",
    "    Pn = eval_legendre(n, X)\n",
    "    aux = -simps(C*Pn, X)\n",
    "    power.append(n*(n+1)*aux)"
   ],
   "outputs": [],
   "metadata": {}
  },
  {
   "cell_type": "code",
   "execution_count": null,
   "source": [
    "plt.xlabel('l')\n",
    "plt.ylabel('$\\Delta_T^2$', rotation=0)\n",
    "plt.plot(power, 'bo-')\n",
    "plt.grid()"
   ],
   "outputs": [],
   "metadata": {}
  }
 ],
 "metadata": {
  "orig_nbformat": 4,
  "language_info": {
   "name": "python",
   "version": "3.7.11",
   "mimetype": "text/x-python",
   "codemirror_mode": {
    "name": "ipython",
    "version": 3
   },
   "pygments_lexer": "ipython3",
   "nbconvert_exporter": "python",
   "file_extension": ".py"
  },
  "kernelspec": {
   "name": "python3",
   "display_name": "Python 3.7.11 64-bit ('fisica': conda)"
  },
  "interpreter": {
   "hash": "cc239380ed0f405b57a00edfaee29efd057979a7f62a766b8b8106d2dc23de97"
  }
 },
 "nbformat": 4,
 "nbformat_minor": 2
}